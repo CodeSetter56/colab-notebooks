{
  "nbformat": 4,
  "nbformat_minor": 0,
  "metadata": {
    "colab": {
      "provenance": [],
      "authorship_tag": "ABX9TyOcb/6WfsTXRoIMNjNTUsS3",
      "include_colab_link": true
    },
    "kernelspec": {
      "name": "python3",
      "display_name": "Python 3"
    },
    "language_info": {
      "name": "python"
    }
  },
  "cells": [
    {
      "cell_type": "markdown",
      "metadata": {
        "id": "view-in-github",
        "colab_type": "text"
      },
      "source": [
        "<a href=\"https://colab.research.google.com/github/CodeSetter56/colab-notebooks/blob/main/dsa.ipynb\" target=\"_parent\"><img src=\"https://colab.research.google.com/assets/colab-badge.svg\" alt=\"Open In Colab\"/></a>"
      ]
    },
    {
      "cell_type": "markdown",
      "source": [
        "pattern"
      ],
      "metadata": {
        "id": "0FMwp9ZbXMfs"
      }
    },
    {
      "cell_type": "code",
      "execution_count": null,
      "metadata": {
        "colab": {
          "base_uri": "https://localhost:8080/"
        },
        "id": "h40V3YpA8OLa",
        "outputId": "6ac2480e-f4ca-4663-b904-541661c7c185"
      },
      "outputs": [
        {
          "output_type": "stream",
          "name": "stdout",
          "text": [
            "* * * * * * * \n",
            "  * * * * * \n",
            "    * * * \n",
            "      * \n"
          ]
        }
      ],
      "source": [
        "n=4\n",
        "for  i in range(n):\n",
        "  for j in range(i):\n",
        "    print(\" \", end=\" \")\n",
        "  for j in range(i,n-1):\n",
        "    print(\"*\", end=\" \")\n",
        "  for j in range(i,n):\n",
        "    print(\"*\", end=\" \")\n",
        "  print()"
      ]
    },
    {
      "cell_type": "markdown",
      "source": [
        "recurssion"
      ],
      "metadata": {
        "id": "g9b3eQdIXGHJ"
      }
    },
    {
      "cell_type": "code",
      "source": [
        "# factorial\n",
        "def func(n):\n",
        "  if n==0:\n",
        "    return 1\n",
        "  return n*func(n-1)\n",
        "\n",
        "n=4\n",
        "print(func(n))"
      ],
      "metadata": {
        "colab": {
          "base_uri": "https://localhost:8080/"
        },
        "id": "k6EuP9o2b7Ro",
        "outputId": "324fc517-1059-4f29-ab8d-fb47dea6b022"
      },
      "execution_count": null,
      "outputs": [
        {
          "output_type": "stream",
          "name": "stdout",
          "text": [
            "24\n"
          ]
        }
      ]
    },
    {
      "cell_type": "code",
      "source": [
        "# reverse an array\n",
        "def f(i):\n",
        "  if i>n//2:\n",
        "    return\n",
        "  arr[i],arr[n-i-1] = arr[n-i-1],arr[i]\n",
        "  f(i+1)\n",
        "\n",
        "a = [1,2,3,2,1]\n",
        "arr=a.copy()\n",
        "i,n=0,len(arr)\n",
        "f(i)\n",
        "print(a==arr)\n"
      ],
      "metadata": {
        "colab": {
          "base_uri": "https://localhost:8080/"
        },
        "id": "Q52Q5-sOjHae",
        "outputId": "dc981d79-3e4c-40ee-ba11-260f41fef8a5"
      },
      "execution_count": null,
      "outputs": [
        {
          "output_type": "stream",
          "name": "stdout",
          "text": [
            "True\n"
          ]
        }
      ]
    },
    {
      "cell_type": "code",
      "source": [
        "# sum of subarrays = 7 where elements can be taken twice\n",
        "def f(i,res,sum):\n",
        "  if i>=len(arr):\n",
        "    if sum==7:\n",
        "      print(res)\n",
        "    return 0\n",
        "  if sum<=7:\n",
        "    res.append(arr[i])\n",
        "    f(i,res,sum+arr[i])\n",
        "    res.pop()\n",
        "  f(i+1,res,sum)\n",
        "\n",
        "arr=[2,3,6,7]\n",
        "i,sum=0,0\n",
        "print(f(i,[],sum))"
      ],
      "metadata": {
        "id": "jcfZ5shVPZRx",
        "colab": {
          "base_uri": "https://localhost:8080/"
        },
        "outputId": "14c7db12-0dc3-4c3a-97cd-2e128362b7ac"
      },
      "execution_count": null,
      "outputs": [
        {
          "output_type": "stream",
          "name": "stdout",
          "text": [
            "[2, 2, 3]\n",
            "[7]\n",
            "None\n"
          ]
        }
      ]
    },
    {
      "cell_type": "code",
      "source": [
        "# sum of subarrays = 2\n",
        "def f(i,res,sum):\n",
        "  if i>=len(arr):\n",
        "    if sum==7:\n",
        "      print(res)\n",
        "    return\n",
        "  res.append(arr[i])\n",
        "  l = f(i+1,res,sum+arr[i])\n",
        "  res.pop()\n",
        "  r = f(i+1,res,sum)\n",
        "\n",
        "arr=[2,3,6,7]\n",
        "i,sum=0,0\n",
        "print(f(i,[],sum))"
      ],
      "metadata": {
        "colab": {
          "base_uri": "https://localhost:8080/"
        },
        "id": "mjuLIeJuRuOc",
        "outputId": "a408c82f-57d5-4db8-91f6-652efcba7e84"
      },
      "execution_count": null,
      "outputs": [
        {
          "output_type": "stream",
          "name": "stdout",
          "text": [
            "None\n",
            "{(1, 7), (1, 1, 6), (1, 2, 5), (2, 6)}\n"
          ]
        }
      ]
    },
    {
      "cell_type": "code",
      "source": [
        "# sum of subarrays without repeating subsets\n",
        "def f(idx,res,path,target):\n",
        "  if target==0:\n",
        "    res.append(path[:])\n",
        "    return\n",
        "  for i in range(idx,len(arr)):\n",
        "    if i>idx and arr[i]==arr[i-1]:\n",
        "      continue\n",
        "    if arr[i]>target:\n",
        "      break\n",
        "    path.append(arr[i])\n",
        "    f(i+1,res,path,target-arr[i])\n",
        "    path.pop()\n",
        "\n",
        "arr=[1,1,1,2,2] #sorted\n",
        "res=[]\n",
        "f(0,res,[],4)\n",
        "print(res)"
      ],
      "metadata": {
        "colab": {
          "base_uri": "https://localhost:8080/"
        },
        "id": "aGnmyxcka4Nn",
        "outputId": "df87e3e2-8198-469c-b181-a7aedf850194"
      },
      "execution_count": null,
      "outputs": [
        {
          "output_type": "stream",
          "name": "stdout",
          "text": [
            "[[1, 1, 2], [2, 2]]\n"
          ]
        }
      ]
    },
    {
      "cell_type": "code",
      "source": [
        "# all permutations\n",
        "def f(idx,res,path):\n",
        "  if len(path)==len(arr):\n",
        "    res.append(path[:])\n",
        "  for i in range(idx,len(arr)):\n",
        "    arr[idx],arr[i] = arr[i],arr[idx]\n",
        "    path.append(arr[idx])\n",
        "    f(idx+1,res,path)\n",
        "    path.pop()\n",
        "    arr[idx],arr[i] = arr[i],arr[idx]\n",
        "\n",
        "arr=[1,2,3]\n",
        "res=[]\n",
        "f(0,res,[])\n",
        "print(res)"
      ],
      "metadata": {
        "colab": {
          "base_uri": "https://localhost:8080/"
        },
        "id": "8Ua11pt14LBO",
        "outputId": "cd72abf3-0f5d-4a83-c8aa-a5bd8a0d0afe"
      },
      "execution_count": null,
      "outputs": [
        {
          "output_type": "stream",
          "name": "stdout",
          "text": [
            "[[1, 2, 3], [1, 3, 2], [2, 1, 3], [2, 3, 1], [3, 2, 1], [3, 1, 2]]\n"
          ]
        }
      ]
    },
    {
      "cell_type": "code",
      "source": [
        "# n queens\n",
        "def isValid(row,col,board):\n",
        "  r=row\n",
        "  c=col\n",
        "  while r>=0 and c>=0:\n",
        "    if board[r][c]==\"Q\":\n",
        "      return False\n",
        "    r-=1\n",
        "    c-=1\n",
        "  r=row\n",
        "  c=col\n",
        "  while c>=0:\n",
        "    if board[r][c]==\"Q\":\n",
        "      return False\n",
        "    c-=1\n",
        "  r=row\n",
        "  c=col\n",
        "  while r<n and c>=0:\n",
        "    if board[r][c]==\"Q\":\n",
        "      return False\n",
        "    r+=1\n",
        "    c-=1\n",
        "  return True\n",
        "\n",
        "def f(col,board,res):\n",
        "  if col==n:\n",
        "    res.append([\"\".join(row) for row in board]) #deep copy\n",
        "    return\n",
        "  for row in range(n):\n",
        "    if isValid(row,col,board):\n",
        "      board[row][col] = \"Q\"\n",
        "      f(col+1,board,res)\n",
        "      board[row][col] = \".\"\n",
        "\n",
        "n=4\n",
        "board = [[\".\" for _ in range(n)] for _ in range(n)] #independent row copies\n",
        "res=[]\n",
        "f(0,board,res)\n",
        "for r in res:\n",
        "    for row in r:\n",
        "        print(row)\n",
        "    print()"
      ],
      "metadata": {
        "colab": {
          "base_uri": "https://localhost:8080/"
        },
        "id": "XXYGA1OafSBG",
        "outputId": "9d180309-406d-4bab-d2f0-8a42feefb600"
      },
      "execution_count": null,
      "outputs": [
        {
          "output_type": "stream",
          "name": "stdout",
          "text": [
            "..Q.\n",
            "Q...\n",
            "...Q\n",
            ".Q..\n",
            "\n",
            ".Q..\n",
            "...Q\n",
            "Q...\n",
            "..Q.\n",
            "\n"
          ]
        }
      ]
    },
    {
      "cell_type": "code",
      "source": [
        "# n queens without looping\n",
        "def f(col,board,res,leftrow,updiag,lowdiag):\n",
        "  if col==n:\n",
        "    res.append([\"\".join(row) for row in board])\n",
        "    return\n",
        "  for row in range(n):\n",
        "    if leftrow[row]==0 and updiag[n-1 + col-row]==0 and lowdiag[row+col]==0:\n",
        "      board[row][col] = \"Q\"\n",
        "      leftrow[row]=1\n",
        "      updiag[n-1 + col-row]=1\n",
        "      lowdiag[row+col]=1\n",
        "      f(col+1,board,res,leftrow,updiag,lowdiag)\n",
        "      board[row][col] = \".\"\n",
        "      leftrow[row]=0\n",
        "      updiag[n-1 + col-row]=0\n",
        "      lowdiag[row+col]=0\n",
        "\n",
        "n=4\n",
        "board = [[\".\" for _ in range(n)] for _ in range(n)]\n",
        "res=[]\n",
        "leftrow=[0]*n\n",
        "lowdiag = [0] * (2*n - 1)\n",
        "updiag = [0] * (2*n - 1)\n",
        "f(0,board,res,leftrow,updiag,lowdiag)\n",
        "for r in res:\n",
        "    for row in r:\n",
        "        print(row)\n",
        "    print()"
      ],
      "metadata": {
        "colab": {
          "base_uri": "https://localhost:8080/"
        },
        "id": "TiDoocTv1wy3",
        "outputId": "0c9561c5-3d21-407f-ad23-044ac025410a"
      },
      "execution_count": null,
      "outputs": [
        {
          "output_type": "stream",
          "name": "stdout",
          "text": [
            "..Q.\n",
            "Q...\n",
            "...Q\n",
            ".Q..\n",
            "\n",
            ".Q..\n",
            "...Q\n",
            "Q...\n",
            "..Q.\n",
            "\n"
          ]
        }
      ]
    },
    {
      "cell_type": "code",
      "source": [
        "#sudoku solver\n",
        "\n",
        "def f(board):\n",
        "\n",
        "  def isValid(row,col,n):\n",
        "    for c in range(9):\n",
        "      if board[row][c]==n:\n",
        "        return False\n",
        "    for r in range(9):\n",
        "      if board[r][col]==n:\n",
        "        return False\n",
        "    ir,ic=3*(row//3),3*(col//3)\n",
        "    for r in range(ir,ir+3):\n",
        "      for c in range(ic,ic+3):\n",
        "        if board[r][c]==n:\n",
        "          return False\n",
        "    return True\n",
        "\n",
        "  def solve():\n",
        "    for row in range(9):\n",
        "      for col in range(9):\n",
        "        if board[row][col]==\".\":\n",
        "          for n in range(1,10):\n",
        "            if isValid(row,col,str(n)):\n",
        "              board[row][col]=str(n)\n",
        "              if solve():\n",
        "                return True\n",
        "              board[row][col]=\".\"\n",
        "          return False\n",
        "    return True\n",
        "\n",
        "  solve()\n",
        "\n",
        "board = [\n",
        "        [\"5\",\"3\",\".\",\".\",\"7\",\".\",\".\",\".\",\".\"],\n",
        "        [\"6\",\".\",\".\",\"1\",\"9\",\"5\",\".\",\".\",\".\"],\n",
        "        [\".\",\"9\",\"8\",\".\",\".\",\".\",\".\",\"6\",\".\"],\n",
        "        [\"8\",\".\",\".\",\".\",\"6\",\".\",\".\",\".\",\"3\"],\n",
        "        [\"4\",\".\",\".\",\"8\",\".\",\"3\",\".\",\".\",\"1\"],\n",
        "        [\"7\",\".\",\".\",\".\",\"2\",\".\",\".\",\".\",\"6\"],\n",
        "        [\".\",\"6\",\".\",\".\",\".\",\".\",\"2\",\"8\",\".\"],\n",
        "        [\".\",\".\",\".\",\"4\",\"1\",\"9\",\".\",\".\",\"5\"],\n",
        "        [\".\",\".\",\".\",\".\",\"8\",\".\",\".\",\"7\",\"9\"]\n",
        "    ]\n",
        "\n",
        "print(\"Original Puzzle:\")\n",
        "for row in board:\n",
        "    print(\" \".join(row))\n",
        "\n",
        "f(board)\n",
        "\n",
        "print(\"\\nSolved Puzzle:\")\n",
        "for row in board:\n",
        "    print(\" \".join(row))"
      ],
      "metadata": {
        "colab": {
          "base_uri": "https://localhost:8080/"
        },
        "id": "ieElX30bPPCS",
        "outputId": "0bf61861-5a76-4eb6-ebef-95c91a71e392"
      },
      "execution_count": null,
      "outputs": [
        {
          "output_type": "stream",
          "name": "stdout",
          "text": [
            "Original Puzzle:\n",
            "5 3 . . 7 . . . .\n",
            "6 . . 1 9 5 . . .\n",
            ". 9 8 . . . . 6 .\n",
            "8 . . . 6 . . . 3\n",
            "4 . . 8 . 3 . . 1\n",
            "7 . . . 2 . . . 6\n",
            ". 6 . . . . 2 8 .\n",
            ". . . 4 1 9 . . 5\n",
            ". . . . 8 . . 7 9\n",
            "\n",
            "Solved Puzzle:\n",
            "5 3 4 6 7 8 9 1 2\n",
            "6 7 2 1 9 5 3 4 8\n",
            "1 9 8 3 4 2 5 6 7\n",
            "8 5 9 7 6 1 4 2 3\n",
            "4 2 6 8 5 3 7 9 1\n",
            "7 1 3 9 2 4 8 5 6\n",
            "9 6 1 5 3 7 2 8 4\n",
            "2 8 7 4 1 9 6 3 5\n",
            "3 4 5 2 8 6 1 7 9\n"
          ]
        }
      ]
    }
  ]
}